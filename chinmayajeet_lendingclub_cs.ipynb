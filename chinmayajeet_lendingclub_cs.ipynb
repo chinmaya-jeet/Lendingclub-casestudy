{
 "cells": [
  {
   "cell_type": "markdown",
   "id": "fadd821b-7c17-4865-b5e5-59fd914e42c2",
   "metadata": {},
   "source": [
    "## Lending Club Case study - Loan EDA Assignment"
   ]
  },
  {
   "cell_type": "code",
   "execution_count": 63,
   "id": "68eb9bfa-cd8f-4ca2-93d0-2e1a686ddb24",
   "metadata": {},
   "outputs": [],
   "source": [
    "#Import the required libraries\n",
    "import numpy as np\n",
    "import pandas as pd\n",
    "#Import the graphic libraries\n",
    "import matplotlib.pyplot as plt\n",
    "import seaborn as sns"
   ]
  },
  {
   "cell_type": "code",
   "execution_count": 64,
   "id": "50d80430-4a52-4ac9-aae8-34e3f83b55e5",
   "metadata": {},
   "outputs": [
    {
     "data": {
      "text/plain": [
       "(39717, 111)"
      ]
     },
     "execution_count": 64,
     "metadata": {},
     "output_type": "execute_result"
    }
   ],
   "source": [
    "#load the data file loan.csv\n",
    "df=pd.read_csv(\"loan.csv\",low_memory=False)\n",
    "df.shape"
   ]
  },
  {
   "cell_type": "code",
   "execution_count": 65,
   "id": "414fc751-942b-41ab-bcdf-7dfb0dfd79e5",
   "metadata": {},
   "outputs": [
    {
     "name": "stdout",
     "output_type": "stream",
     "text": [
      "<class 'pandas.core.frame.DataFrame'>\n",
      "RangeIndex: 39717 entries, 0 to 39716\n",
      "Columns: 111 entries, id to total_il_high_credit_limit\n",
      "dtypes: float64(74), int64(13), object(24)\n",
      "memory usage: 33.6+ MB\n"
     ]
    }
   ],
   "source": [
    "df.info()"
   ]
  },
  {
   "cell_type": "markdown",
   "id": "201cbcf0-6694-4c62-9689-7d85e822d98d",
   "metadata": {},
   "source": [
    "### Data Cleanup"
   ]
  },
  {
   "cell_type": "markdown",
   "id": "73c4a5c3-deec-4639-8408-d45aa89be0d9",
   "metadata": {},
   "source": [
    "##### In this section we will clean up the data by removing the null columns. Also, we have some data that need to be converted to a different format to make it easier for analysis"
   ]
  },
  {
   "cell_type": "code",
   "execution_count": 66,
   "id": "6c904f41-cd98-4234-8ee2-e6754b052e76",
   "metadata": {},
   "outputs": [
    {
     "data": {
      "text/plain": [
       "id                                0\n",
       "member_id                         0\n",
       "loan_amnt                         0\n",
       "funded_amnt                       0\n",
       "funded_amnt_inv                   0\n",
       "                              ...  \n",
       "tax_liens                        39\n",
       "tot_hi_cred_lim               39717\n",
       "total_bal_ex_mort             39717\n",
       "total_bc_limit                39717\n",
       "total_il_high_credit_limit    39717\n",
       "Length: 111, dtype: int64"
      ]
     },
     "execution_count": 66,
     "metadata": {},
     "output_type": "execute_result"
    }
   ],
   "source": [
    "#find out the empty columns in the dataset\n",
    "# find out empty columns \n",
    "nan_columns = df.isnull().sum()\n",
    "nan_columns"
   ]
  },
  {
   "cell_type": "code",
   "execution_count": 67,
   "id": "fdbfe63b-6567-40ec-9a47-25cc0a869f8c",
   "metadata": {},
   "outputs": [],
   "source": [
    "empty_columns = nan_columns[nan_columns == 39717].index.to_list()"
   ]
  },
  {
   "cell_type": "code",
   "execution_count": 68,
   "id": "fcf98f92-45ed-4dc7-95f4-f43eb43a8b1c",
   "metadata": {},
   "outputs": [
    {
     "data": {
      "text/plain": [
       "['mths_since_last_major_derog',\n",
       " 'annual_inc_joint',\n",
       " 'dti_joint',\n",
       " 'verification_status_joint',\n",
       " 'tot_coll_amt',\n",
       " 'tot_cur_bal',\n",
       " 'open_acc_6m',\n",
       " 'open_il_6m',\n",
       " 'open_il_12m',\n",
       " 'open_il_24m',\n",
       " 'mths_since_rcnt_il',\n",
       " 'total_bal_il',\n",
       " 'il_util',\n",
       " 'open_rv_12m',\n",
       " 'open_rv_24m',\n",
       " 'max_bal_bc',\n",
       " 'all_util',\n",
       " 'total_rev_hi_lim',\n",
       " 'inq_fi',\n",
       " 'total_cu_tl',\n",
       " 'inq_last_12m',\n",
       " 'acc_open_past_24mths',\n",
       " 'avg_cur_bal',\n",
       " 'bc_open_to_buy',\n",
       " 'bc_util',\n",
       " 'mo_sin_old_il_acct',\n",
       " 'mo_sin_old_rev_tl_op',\n",
       " 'mo_sin_rcnt_rev_tl_op',\n",
       " 'mo_sin_rcnt_tl',\n",
       " 'mort_acc',\n",
       " 'mths_since_recent_bc',\n",
       " 'mths_since_recent_bc_dlq',\n",
       " 'mths_since_recent_inq',\n",
       " 'mths_since_recent_revol_delinq',\n",
       " 'num_accts_ever_120_pd',\n",
       " 'num_actv_bc_tl',\n",
       " 'num_actv_rev_tl',\n",
       " 'num_bc_sats',\n",
       " 'num_bc_tl',\n",
       " 'num_il_tl',\n",
       " 'num_op_rev_tl',\n",
       " 'num_rev_accts',\n",
       " 'num_rev_tl_bal_gt_0',\n",
       " 'num_sats',\n",
       " 'num_tl_120dpd_2m',\n",
       " 'num_tl_30dpd',\n",
       " 'num_tl_90g_dpd_24m',\n",
       " 'num_tl_op_past_12m',\n",
       " 'pct_tl_nvr_dlq',\n",
       " 'percent_bc_gt_75',\n",
       " 'tot_hi_cred_lim',\n",
       " 'total_bal_ex_mort',\n",
       " 'total_bc_limit',\n",
       " 'total_il_high_credit_limit']"
      ]
     },
     "execution_count": 68,
     "metadata": {},
     "output_type": "execute_result"
    }
   ],
   "source": [
    "empty_columns"
   ]
  },
  {
   "cell_type": "markdown",
   "id": "09509905-4660-4ba7-aa88-f3801fb12039",
   "metadata": {},
   "source": [
    "##### There are many columns which are blank and can be removed. Those will not be required for data analysis"
   ]
  },
  {
   "cell_type": "code",
   "execution_count": 69,
   "id": "0c5025cd-20f6-4569-90ad-8ec17ee4cab5",
   "metadata": {},
   "outputs": [
    {
     "data": {
      "text/plain": [
       "(39717, 57)"
      ]
     },
     "execution_count": 69,
     "metadata": {},
     "output_type": "execute_result"
    }
   ],
   "source": [
    "df.dropna(how='all', axis=1, inplace=True)\n",
    "df.shape"
   ]
  },
  {
   "cell_type": "markdown",
   "id": "4535794f-5a55-4fe1-be00-6ba3037f5248",
   "metadata": {},
   "source": [
    "##### Above is the cleaned up data for analysis"
   ]
  },
  {
   "cell_type": "code",
   "execution_count": 70,
   "id": "fb853f7b-09dd-4af3-92c5-ade1167e2e51",
   "metadata": {},
   "outputs": [
    {
     "name": "stdout",
     "output_type": "stream",
     "text": [
      "<class 'pandas.core.frame.DataFrame'>\n",
      "RangeIndex: 39717 entries, 0 to 39716\n",
      "Data columns (total 57 columns):\n",
      " #   Column                      Non-Null Count  Dtype  \n",
      "---  ------                      --------------  -----  \n",
      " 0   id                          39717 non-null  int64  \n",
      " 1   member_id                   39717 non-null  int64  \n",
      " 2   loan_amnt                   39717 non-null  int64  \n",
      " 3   funded_amnt                 39717 non-null  int64  \n",
      " 4   funded_amnt_inv             39717 non-null  float64\n",
      " 5   term                        39717 non-null  object \n",
      " 6   int_rate                    39717 non-null  object \n",
      " 7   installment                 39717 non-null  float64\n",
      " 8   grade                       39717 non-null  object \n",
      " 9   sub_grade                   39717 non-null  object \n",
      " 10  emp_title                   37258 non-null  object \n",
      " 11  emp_length                  38642 non-null  object \n",
      " 12  home_ownership              39717 non-null  object \n",
      " 13  annual_inc                  39717 non-null  float64\n",
      " 14  verification_status         39717 non-null  object \n",
      " 15  issue_d                     39717 non-null  object \n",
      " 16  loan_status                 39717 non-null  object \n",
      " 17  pymnt_plan                  39717 non-null  object \n",
      " 18  url                         39717 non-null  object \n",
      " 19  desc                        26775 non-null  object \n",
      " 20  purpose                     39717 non-null  object \n",
      " 21  title                       39706 non-null  object \n",
      " 22  zip_code                    39717 non-null  object \n",
      " 23  addr_state                  39717 non-null  object \n",
      " 24  dti                         39717 non-null  float64\n",
      " 25  delinq_2yrs                 39717 non-null  int64  \n",
      " 26  earliest_cr_line            39717 non-null  object \n",
      " 27  inq_last_6mths              39717 non-null  int64  \n",
      " 28  mths_since_last_delinq      14035 non-null  float64\n",
      " 29  mths_since_last_record      2786 non-null   float64\n",
      " 30  open_acc                    39717 non-null  int64  \n",
      " 31  pub_rec                     39717 non-null  int64  \n",
      " 32  revol_bal                   39717 non-null  int64  \n",
      " 33  revol_util                  39667 non-null  object \n",
      " 34  total_acc                   39717 non-null  int64  \n",
      " 35  initial_list_status         39717 non-null  object \n",
      " 36  out_prncp                   39717 non-null  float64\n",
      " 37  out_prncp_inv               39717 non-null  float64\n",
      " 38  total_pymnt                 39717 non-null  float64\n",
      " 39  total_pymnt_inv             39717 non-null  float64\n",
      " 40  total_rec_prncp             39717 non-null  float64\n",
      " 41  total_rec_int               39717 non-null  float64\n",
      " 42  total_rec_late_fee          39717 non-null  float64\n",
      " 43  recoveries                  39717 non-null  float64\n",
      " 44  collection_recovery_fee     39717 non-null  float64\n",
      " 45  last_pymnt_d                39646 non-null  object \n",
      " 46  last_pymnt_amnt             39717 non-null  float64\n",
      " 47  next_pymnt_d                1140 non-null   object \n",
      " 48  last_credit_pull_d          39715 non-null  object \n",
      " 49  collections_12_mths_ex_med  39661 non-null  float64\n",
      " 50  policy_code                 39717 non-null  int64  \n",
      " 51  application_type            39717 non-null  object \n",
      " 52  acc_now_delinq              39717 non-null  int64  \n",
      " 53  chargeoff_within_12_mths    39661 non-null  float64\n",
      " 54  delinq_amnt                 39717 non-null  int64  \n",
      " 55  pub_rec_bankruptcies        39020 non-null  float64\n",
      " 56  tax_liens                   39678 non-null  float64\n",
      "dtypes: float64(20), int64(13), object(24)\n",
      "memory usage: 17.3+ MB\n"
     ]
    }
   ],
   "source": [
    "df.info()"
   ]
  },
  {
   "cell_type": "markdown",
   "id": "2dbdf4c3-ee9e-4342-b00d-3c2693e79988",
   "metadata": {},
   "source": [
    "##### Next step is to drop all those columns which are not required for our analysis"
   ]
  },
  {
   "cell_type": "code",
   "execution_count": 71,
   "id": "ee022bab-6cb2-413b-b51c-89be70f71d51",
   "metadata": {},
   "outputs": [],
   "source": [
    "df =df.drop([ 'delinq_2yrs','earliest_cr_line','inq_last_6mths','open_acc',\n",
    "             'pub_rec','revol_bal','revol_util','total_acc','out_prncp',\n",
    "             'out_prncp_inv','total_pymnt', 'total_pymnt_inv','desc', \n",
    "             'mths_since_last_delinq','mths_since_last_record','next_pymnt_d',\n",
    "             'zip_code','pymnt_plan','url','initial_list_status','collections_12_mths_ex_med',\n",
    "             'policy_code','tax_liens','delinq_amnt','chargeoff_within_12_mths','acc_now_delinq', \n",
    "             'title','total_rec_prncp', 'total_rec_int','total_rec_late_fee','recoveries',\n",
    "             'collection_recovery_fee','last_pymnt_d','last_pymnt_amnt','last_credit_pull_d','application_type'], axis=1)"
   ]
  },
  {
   "cell_type": "code",
   "execution_count": 72,
   "id": "1109d53e-aa5c-4815-b9e6-de5320f96109",
   "metadata": {},
   "outputs": [
    {
     "name": "stdout",
     "output_type": "stream",
     "text": [
      "<class 'pandas.core.frame.DataFrame'>\n",
      "RangeIndex: 39717 entries, 0 to 39716\n",
      "Data columns (total 21 columns):\n",
      " #   Column                Non-Null Count  Dtype  \n",
      "---  ------                --------------  -----  \n",
      " 0   id                    39717 non-null  int64  \n",
      " 1   member_id             39717 non-null  int64  \n",
      " 2   loan_amnt             39717 non-null  int64  \n",
      " 3   funded_amnt           39717 non-null  int64  \n",
      " 4   funded_amnt_inv       39717 non-null  float64\n",
      " 5   term                  39717 non-null  object \n",
      " 6   int_rate              39717 non-null  object \n",
      " 7   installment           39717 non-null  float64\n",
      " 8   grade                 39717 non-null  object \n",
      " 9   sub_grade             39717 non-null  object \n",
      " 10  emp_title             37258 non-null  object \n",
      " 11  emp_length            38642 non-null  object \n",
      " 12  home_ownership        39717 non-null  object \n",
      " 13  annual_inc            39717 non-null  float64\n",
      " 14  verification_status   39717 non-null  object \n",
      " 15  issue_d               39717 non-null  object \n",
      " 16  loan_status           39717 non-null  object \n",
      " 17  purpose               39717 non-null  object \n",
      " 18  addr_state            39717 non-null  object \n",
      " 19  dti                   39717 non-null  float64\n",
      " 20  pub_rec_bankruptcies  39020 non-null  float64\n",
      "dtypes: float64(5), int64(4), object(12)\n",
      "memory usage: 6.4+ MB\n"
     ]
    }
   ],
   "source": [
    "df.info()"
   ]
  },
  {
   "cell_type": "code",
   "execution_count": 73,
   "id": "1fedd1a0-1b36-4730-89e4-c997afb4228e",
   "metadata": {},
   "outputs": [
    {
     "data": {
      "text/plain": [
       "id                      0.000000\n",
       "member_id               0.000000\n",
       "loan_amnt               0.000000\n",
       "funded_amnt             0.000000\n",
       "funded_amnt_inv         0.000000\n",
       "term                    0.000000\n",
       "int_rate                0.000000\n",
       "installment             0.000000\n",
       "grade                   0.000000\n",
       "sub_grade               0.000000\n",
       "emp_title               6.191303\n",
       "emp_length              2.706650\n",
       "home_ownership          0.000000\n",
       "annual_inc              0.000000\n",
       "verification_status     0.000000\n",
       "issue_d                 0.000000\n",
       "loan_status             0.000000\n",
       "purpose                 0.000000\n",
       "addr_state              0.000000\n",
       "dti                     0.000000\n",
       "pub_rec_bankruptcies    1.754916\n",
       "dtype: float64"
      ]
     },
     "execution_count": 73,
     "metadata": {},
     "output_type": "execute_result"
    }
   ],
   "source": [
    "# Lets find the percentage of null fields in our dataset\n",
    "100*df.isnull().mean()"
   ]
  },
  {
   "cell_type": "code",
   "execution_count": 74,
   "id": "11cc3e81-85a5-4908-bef9-7b36458132f7",
   "metadata": {},
   "outputs": [],
   "source": [
    "# Above data shows that emp_title and emp_length do not have ~6% and ~2% data respectively\n",
    "df= df[~ (df['emp_title'].isna() | df['emp_length'].isna() )]"
   ]
  },
  {
   "cell_type": "markdown",
   "id": "d1e052ae-710b-4f88-8c8d-284f7930e6c5",
   "metadata": {},
   "source": [
    "**let's identify the column we need to investigate** \n",
    " - term - The number of payments on the loan. Values are in months and can be either 36 or 60. \n",
    " - int_rate - Interest Rate on the loan \n",
    " - installment - monthly EMI \n",
    " - grade and sub_grade - LC assigned loan grade\n",
    " - emp_title - he job title supplied by the Borrower when applying for the loan.*\n",
    " - emp_length -Employment length in years. Possible values are between 0 and 10 where 0 means less than one year and 10 means ten or more years. \n",
    " - home_ownership - The homeownership status provided by the borrower during registration. Our values are: RENT, OWN, MORTGAGE, OTHER\n",
    "- annual_inc - The self-reported annual income provided by the borrower during registration.\n",
    "- loan_status Current status of the loan\n",
    "- loan_amnt - The listed amount of the loan applied for by the borrower. If at some point in time, the credit department -educes the loan amount, then it will be reflected in this value.\n",
    "- verification_status- Indicates if income was verified by LC, not verified, or if the income source was verifie-\n",
    "- purpose - A category provided by the borrower for the loan request.-\n",
    "- dti - A ratio calculated using the borrower’s total monthly debt payments on the total debt obligations, exclu-ing -ortgage and the requested LC loan, divided by the borrower’s self-re-orted monthly income.\n",
    "- delinq_2yrs - The number of 30+ days past-due incidences of delinquency in the borrower's credit file for the past 2 years"
   ]
  },
  {
   "cell_type": "code",
   "execution_count": 75,
   "id": "a0fa6a78-674c-4541-a458-a6250588900b",
   "metadata": {},
   "outputs": [
    {
     "data": {
      "text/plain": [
       "id                      0.00000\n",
       "member_id               0.00000\n",
       "loan_amnt               0.00000\n",
       "funded_amnt             0.00000\n",
       "funded_amnt_inv         0.00000\n",
       "term                    0.00000\n",
       "int_rate                0.00000\n",
       "installment             0.00000\n",
       "grade                   0.00000\n",
       "sub_grade               0.00000\n",
       "emp_title               0.00000\n",
       "emp_length              0.00000\n",
       "home_ownership          0.00000\n",
       "annual_inc              0.00000\n",
       "verification_status     0.00000\n",
       "issue_d                 0.00000\n",
       "loan_status             0.00000\n",
       "purpose                 0.00000\n",
       "addr_state              0.00000\n",
       "dti                     0.00000\n",
       "pub_rec_bankruptcies    1.75797\n",
       "dtype: float64"
      ]
     },
     "execution_count": 75,
     "metadata": {},
     "output_type": "execute_result"
    }
   ],
   "source": [
    "### Now lets find out the Percentage of null again post above cleanup\n",
    "100*df.isnull().mean()"
   ]
  },
  {
   "cell_type": "code",
   "execution_count": 76,
   "id": "d41bb6f8-6820-4c91-96aa-6bef34e71ed5",
   "metadata": {},
   "outputs": [
    {
     "data": {
      "text/plain": [
       "emp_title\n",
       "US Army                              134\n",
       "Bank of America                      109\n",
       "IBM                                   66\n",
       "AT&T                                  59\n",
       "Kaiser Permanente                     56\n",
       "                                    ... \n",
       "Five County Assoc of Governments       1\n",
       "Far Niente Winery Inc                  1\n",
       "Tobyhanna Army Depot                   1\n",
       "Community College of Philadelphia      1\n",
       "Evergreen Center                       1\n",
       "Name: count, Length: 28775, dtype: int64"
      ]
     },
     "execution_count": 76,
     "metadata": {},
     "output_type": "execute_result"
    }
   ],
   "source": [
    "# check the value count for employee title again \n",
    "df['emp_title'].value_counts()"
   ]
  },
  {
   "cell_type": "code",
   "execution_count": 77,
   "id": "d1c2d121-7394-4200-9bfd-f43c4f2d3bff",
   "metadata": {},
   "outputs": [
    {
     "data": {
      "text/plain": [
       "(37202, 21)"
      ]
     },
     "execution_count": 77,
     "metadata": {},
     "output_type": "execute_result"
    }
   ],
   "source": [
    "df.shape"
   ]
  },
  {
   "cell_type": "code",
   "execution_count": 78,
   "id": "92cd1666-71c3-4355-8f12-952a3b4b0d6d",
   "metadata": {},
   "outputs": [
    {
     "data": {
      "text/plain": [
       "emp_length\n",
       "10+ years    8535\n",
       "2 years      4273\n",
       "< 1 year     4201\n",
       "3 years      3982\n",
       "4 years      3357\n",
       "5 years      3177\n",
       "1 year       3134\n",
       "6 years      2158\n",
       "7 years      1722\n",
       "8 years      1435\n",
       "9 years      1228\n",
       "Name: count, dtype: int64"
      ]
     },
     "execution_count": 78,
     "metadata": {},
     "output_type": "execute_result"
    }
   ],
   "source": [
    "#check the tenure of the employees from data set\n",
    "df['emp_length'].value_counts()"
   ]
  },
  {
   "cell_type": "markdown",
   "id": "8b38cdf8-7fdc-4fca-9039-cba3619103a1",
   "metadata": {},
   "source": [
    "##### There are non-integer values in data which need to be converted to integer for our analysis"
   ]
  },
  {
   "cell_type": "code",
   "execution_count": 79,
   "id": "d2106fc0-eb39-45d3-8e12-23ec79dddcce",
   "metadata": {},
   "outputs": [],
   "source": [
    "## Define a function to convert the employee length to integar\n",
    "def update_value(colValue):\n",
    "    match colValue:\n",
    "        case \"10+ years\":\n",
    "            result = \"10\"\n",
    "        case \"< 1 year\":\n",
    "            result = \"0\"\n",
    "        case \"1 year\":\n",
    "            result = \"1\"\n",
    "        case _:\n",
    "            result = colValue.replace(\"years\",\"\") #Replace the text with \"\"\n",
    "    return result.strip()"
   ]
  },
  {
   "cell_type": "code",
   "execution_count": 80,
   "id": "4a632a0d-c983-49c3-890b-a27b3c52a975",
   "metadata": {},
   "outputs": [],
   "source": [
    "df['no_of_years_service']=df['emp_length'].apply(lambda x : int(update_value(x)))"
   ]
  },
  {
   "cell_type": "code",
   "execution_count": 81,
   "id": "0929ae9c-04a6-4352-8820-eb96a9a17ff4",
   "metadata": {},
   "outputs": [
    {
     "data": {
      "text/plain": [
       "term\n",
       "36 months    27125\n",
       "60 months    10077\n",
       "Name: count, dtype: int64"
      ]
     },
     "execution_count": 81,
     "metadata": {},
     "output_type": "execute_result"
    }
   ],
   "source": [
    "#Similarly lets check the term column which has string values and we may need to change to numeric for our analysis\n",
    "df['term'].value_counts()"
   ]
  },
  {
   "cell_type": "code",
   "execution_count": 82,
   "id": "845ed327-b219-467a-aca4-1f172987760b",
   "metadata": {},
   "outputs": [],
   "source": [
    "# lets convert 60months 5 years and 36months as 3 years in term column\n",
    "df['loan_term'] = df['term'].apply(lambda x : int( x.replace('months','').strip())/12)"
   ]
  },
  {
   "cell_type": "code",
   "execution_count": 83,
   "id": "e0dee25b-cc07-4456-8eae-0743d525faa5",
   "metadata": {},
   "outputs": [
    {
     "data": {
      "text/plain": [
       "loan_term\n",
       "3.0    27125\n",
       "5.0    10077\n",
       "Name: count, dtype: int64"
      ]
     },
     "execution_count": 83,
     "metadata": {},
     "output_type": "execute_result"
    }
   ],
   "source": [
    "#Check for the value count for term\n",
    "df['loan_term'].value_counts()"
   ]
  },
  {
   "cell_type": "code",
   "execution_count": 211,
   "id": "07a864c7-54c5-43d5-b08a-6409489625fa",
   "metadata": {},
   "outputs": [
    {
     "data": {
      "text/plain": [
       "count    36548.000000\n",
       "mean     11294.866340\n",
       "std       7435.395805\n",
       "min        500.000000\n",
       "25%       5600.000000\n",
       "50%      10000.000000\n",
       "75%      15000.000000\n",
       "max      35000.000000\n",
       "Name: loan_amnt, dtype: float64"
      ]
     },
     "execution_count": 211,
     "metadata": {},
     "output_type": "execute_result"
    }
   ],
   "source": [
    "#check the loan amount column\n",
    "df['loan_amnt'].describe()"
   ]
  },
  {
   "cell_type": "markdown",
   "id": "bc07cfc9-0c37-41af-8d1e-de63d20515af",
   "metadata": {},
   "source": [
    "##### let us create another loan category basis the loan amount as small, medium and big"
   ]
  },
  {
   "cell_type": "code",
   "execution_count": 212,
   "id": "19bef867-7e92-4ffb-9037-8a9bdff823c4",
   "metadata": {},
   "outputs": [],
   "source": [
    "## Define a function to categorize based on loan amount\n",
    "def loan_amount_type(n):\n",
    "    if n < 5550:\n",
    "        return 'small'\n",
    "    elif n >=5550 and n < 10000:\n",
    "        return 'medium'\n",
    "    elif n >= 10000 and n < 15000:\n",
    "        return 'high'\n",
    "    else:\n",
    "        return 'very high'"
   ]
  },
  {
   "cell_type": "code",
   "execution_count": 86,
   "id": "0a4cc058-adbf-4b32-b05a-a3baa7af85e2",
   "metadata": {},
   "outputs": [],
   "source": [
    "# lets create a new column to store the loan category\n",
    "df['loan_amount_type'] = df['loan_amnt'].apply(lambda x : loan_amount_type(x))"
   ]
  },
  {
   "cell_type": "code",
   "execution_count": 87,
   "id": "5e0ecefa-be92-4a3d-835b-f9fac316938d",
   "metadata": {},
   "outputs": [],
   "source": [
    "##lets clean the interest rate to remove percentage and convert to number\n",
    "df['int_rate'] = df['int_rate'].apply(lambda x : float(x.replace('%','').strip()))"
   ]
  },
  {
   "cell_type": "code",
   "execution_count": 88,
   "id": "e077880d-5dfa-4679-8260-3022b87380fb",
   "metadata": {},
   "outputs": [
    {
     "data": {
      "text/plain": [
       "count    37202.000000\n",
       "mean        12.057666\n",
       "std          3.717259\n",
       "min          5.420000\n",
       "25%          9.320000\n",
       "50%         11.860000\n",
       "75%         14.590000\n",
       "max         24.400000\n",
       "Name: int_rate, dtype: float64"
      ]
     },
     "execution_count": 88,
     "metadata": {},
     "output_type": "execute_result"
    }
   ],
   "source": [
    "df['int_rate'].describe()"
   ]
  },
  {
   "cell_type": "markdown",
   "id": "fdba0c87-6829-427f-81ce-2d4c6240aa60",
   "metadata": {},
   "source": [
    "##### similar to loan amount type, we can categorize interest type"
   ]
  },
  {
   "cell_type": "code",
   "execution_count": 213,
   "id": "da91c498-4f27-40fc-8f94-3e7fa74cfe35",
   "metadata": {},
   "outputs": [],
   "source": [
    "## Define a function to categorize based on interest rate type\n",
    "def int_rate_type(n):\n",
    "    if n <= 9:\n",
    "        return 'small'\n",
    "    elif n > 9 and n <=14:\n",
    "        return 'medium'\n",
    "    else:\n",
    "        return 'high'\n",
    "    "
   ]
  },
  {
   "cell_type": "code",
   "execution_count": 214,
   "id": "0af065a7-7ee4-46b6-9630-3cd58b8d6f02",
   "metadata": {},
   "outputs": [],
   "source": [
    "## Define a function to categorize based on DTI\n",
    "def dti_category(n):\n",
    "    if n <= 20:\n",
    "        return 'Low Risk'\n",
    "    elif n > 20 and n <=35:\n",
    "        return 'Medium Risk'\n",
    "    elif n > 35 and n <=50:\n",
    "        return 'Fair Risk'    \n",
    "    else:\n",
    "        return 'High Risk'"
   ]
  },
  {
   "cell_type": "code",
   "execution_count": 173,
   "id": "4f2472dc-96ce-4f97-a1d8-4216f19c48e0",
   "metadata": {},
   "outputs": [],
   "source": [
    "# lets create a new column to store the amount type \n",
    "df['dti_type'] = df['dti'].apply(lambda x : dti_category(x))"
   ]
  },
  {
   "cell_type": "code",
   "execution_count": null,
   "id": "3fa9c1b8-7abb-41f9-9e8c-6f79e49fe17c",
   "metadata": {},
   "outputs": [],
   "source": [
    "# lets create a new column to store the amount type \n",
    "df['int_rate_type'] = df['int_rate'].apply(lambda x : int_rate_type(x))"
   ]
  },
  {
   "cell_type": "code",
   "execution_count": 189,
   "id": "ff014db0-1e1c-47bb-b1ba-5453113a4de9",
   "metadata": {},
   "outputs": [
    {
     "data": {
      "text/plain": [
       "count    36548.000000\n",
       "mean         5.011902\n",
       "std          3.542254\n",
       "min          0.000000\n",
       "25%          2.000000\n",
       "50%          4.000000\n",
       "75%          9.000000\n",
       "max         10.000000\n",
       "Name: no_of_years_service, dtype: float64"
      ]
     },
     "execution_count": 189,
     "metadata": {},
     "output_type": "execute_result"
    }
   ],
   "source": [
    "#Lets check the number of years of service which can be a great data point to analyze defaullters\n",
    "df['no_of_years_service'].describe()"
   ]
  },
  {
   "cell_type": "code",
   "execution_count": 215,
   "id": "163992a6-b9ea-4483-aec6-d80fb6a31861",
   "metadata": {},
   "outputs": [],
   "source": [
    "#Write a function to categorize the customers based on their experience as fresher, Medium Experience, High Experience ad below\n",
    "def exp_type(n):\n",
    "    if n <= 1:\n",
    "        return 'Fresher'\n",
    "    elif n > 1 and n <=8:\n",
    "        return 'Medium Exp'\n",
    "    else:\n",
    "        return 'High Exp'"
   ]
  },
  {
   "cell_type": "code",
   "execution_count": 181,
   "id": "3ec0562e-1df7-40e9-8aad-34a40e14bf8b",
   "metadata": {},
   "outputs": [],
   "source": [
    "# lets create a new column to store the amount type \n",
    "df['exp_type'] = df['no_of_years_service'].apply(lambda x : exp_type(x))"
   ]
  },
  {
   "cell_type": "markdown",
   "id": "10067602-89fc-474e-b343-645b2c11e8f8",
   "metadata": {},
   "source": [
    "#### The income of the customer can also be a variate for the default. Hence lets categorize to analyze the same"
   ]
  },
  {
   "cell_type": "code",
   "execution_count": 190,
   "id": "f2722497-d6ab-4066-b183-e323da6131b1",
   "metadata": {},
   "outputs": [
    {
     "data": {
      "text/plain": [
       "count    3.654800e+04\n",
       "mean     6.923504e+04\n",
       "std      6.350343e+04\n",
       "min      4.000000e+03\n",
       "25%      4.189800e+04\n",
       "50%      6.000000e+04\n",
       "75%      8.300000e+04\n",
       "max      6.000000e+06\n",
       "Name: annual_inc, dtype: float64"
      ]
     },
     "execution_count": 190,
     "metadata": {},
     "output_type": "execute_result"
    }
   ],
   "source": [
    "df['annual_inc'].describe()"
   ]
  },
  {
   "cell_type": "code",
   "execution_count": 191,
   "id": "6b611533-18da-4428-ae54-7994b1efb9b7",
   "metadata": {},
   "outputs": [],
   "source": [
    "# Create a method to put the customers into income category based on annual income\n",
    "def annual_income_type(n):\n",
    "    if n <= 50000:\n",
    "        return 'Low'\n",
    "    elif n > 50000 and n <=100000:\n",
    "        return 'Medium'\n",
    "    else:\n",
    "        return 'High'"
   ]
  },
  {
   "cell_type": "code",
   "execution_count": 193,
   "id": "2aa9446c-b5fc-4ea8-ad72-eec015eaf53f",
   "metadata": {},
   "outputs": [],
   "source": [
    "# Lets categoroze customers into Low, Medium and High income category for our analysis\n",
    "df['income_type'] = df['annual_inc'].apply(lambda x : annual_income_type(x))"
   ]
  },
  {
   "cell_type": "code",
   "execution_count": 194,
   "id": "cd1c5098-4310-4bd5-8212-a742ddce0807",
   "metadata": {},
   "outputs": [
    {
     "data": {
      "text/html": [
       "<div>\n",
       "<style scoped>\n",
       "    .dataframe tbody tr th:only-of-type {\n",
       "        vertical-align: middle;\n",
       "    }\n",
       "\n",
       "    .dataframe tbody tr th {\n",
       "        vertical-align: top;\n",
       "    }\n",
       "\n",
       "    .dataframe thead th {\n",
       "        text-align: right;\n",
       "    }\n",
       "</style>\n",
       "<table border=\"1\" class=\"dataframe\">\n",
       "  <thead>\n",
       "    <tr style=\"text-align: right;\">\n",
       "      <th></th>\n",
       "      <th>id</th>\n",
       "      <th>member_id</th>\n",
       "      <th>loan_amnt</th>\n",
       "      <th>funded_amnt</th>\n",
       "      <th>funded_amnt_inv</th>\n",
       "      <th>term</th>\n",
       "      <th>int_rate</th>\n",
       "      <th>installment</th>\n",
       "      <th>grade</th>\n",
       "      <th>sub_grade</th>\n",
       "      <th>...</th>\n",
       "      <th>dti</th>\n",
       "      <th>pub_rec_bankruptcies</th>\n",
       "      <th>no_of_years_service</th>\n",
       "      <th>loan_term</th>\n",
       "      <th>loan_amount_type</th>\n",
       "      <th>int_rate_type</th>\n",
       "      <th>is_defaulter</th>\n",
       "      <th>dti_type</th>\n",
       "      <th>exp_type</th>\n",
       "      <th>income_type</th>\n",
       "    </tr>\n",
       "  </thead>\n",
       "  <tbody>\n",
       "    <tr>\n",
       "      <th>1</th>\n",
       "      <td>1077430</td>\n",
       "      <td>1314167</td>\n",
       "      <td>2500</td>\n",
       "      <td>2500</td>\n",
       "      <td>2500.0</td>\n",
       "      <td>60 months</td>\n",
       "      <td>15.27</td>\n",
       "      <td>59.83</td>\n",
       "      <td>C</td>\n",
       "      <td>C4</td>\n",
       "      <td>...</td>\n",
       "      <td>1.00</td>\n",
       "      <td>0.0</td>\n",
       "      <td>0</td>\n",
       "      <td>5.0</td>\n",
       "      <td>small</td>\n",
       "      <td>high</td>\n",
       "      <td>1</td>\n",
       "      <td>Low Risk</td>\n",
       "      <td>Fresher</td>\n",
       "      <td>Low</td>\n",
       "    </tr>\n",
       "    <tr>\n",
       "      <th>3</th>\n",
       "      <td>1076863</td>\n",
       "      <td>1277178</td>\n",
       "      <td>10000</td>\n",
       "      <td>10000</td>\n",
       "      <td>10000.0</td>\n",
       "      <td>36 months</td>\n",
       "      <td>13.49</td>\n",
       "      <td>339.31</td>\n",
       "      <td>C</td>\n",
       "      <td>C1</td>\n",
       "      <td>...</td>\n",
       "      <td>20.00</td>\n",
       "      <td>0.0</td>\n",
       "      <td>10</td>\n",
       "      <td>3.0</td>\n",
       "      <td>high</td>\n",
       "      <td>medium</td>\n",
       "      <td>0</td>\n",
       "      <td>Low Risk</td>\n",
       "      <td>High Exp</td>\n",
       "      <td>Low</td>\n",
       "    </tr>\n",
       "    <tr>\n",
       "      <th>4</th>\n",
       "      <td>1075358</td>\n",
       "      <td>1311748</td>\n",
       "      <td>3000</td>\n",
       "      <td>3000</td>\n",
       "      <td>3000.0</td>\n",
       "      <td>60 months</td>\n",
       "      <td>12.69</td>\n",
       "      <td>67.79</td>\n",
       "      <td>B</td>\n",
       "      <td>B5</td>\n",
       "      <td>...</td>\n",
       "      <td>17.94</td>\n",
       "      <td>0.0</td>\n",
       "      <td>1</td>\n",
       "      <td>5.0</td>\n",
       "      <td>small</td>\n",
       "      <td>medium</td>\n",
       "      <td>0</td>\n",
       "      <td>Low Risk</td>\n",
       "      <td>Fresher</td>\n",
       "      <td>Medium</td>\n",
       "    </tr>\n",
       "    <tr>\n",
       "      <th>5</th>\n",
       "      <td>1075269</td>\n",
       "      <td>1311441</td>\n",
       "      <td>5000</td>\n",
       "      <td>5000</td>\n",
       "      <td>5000.0</td>\n",
       "      <td>36 months</td>\n",
       "      <td>7.90</td>\n",
       "      <td>156.46</td>\n",
       "      <td>A</td>\n",
       "      <td>A4</td>\n",
       "      <td>...</td>\n",
       "      <td>11.20</td>\n",
       "      <td>0.0</td>\n",
       "      <td>3</td>\n",
       "      <td>3.0</td>\n",
       "      <td>small</td>\n",
       "      <td>small</td>\n",
       "      <td>0</td>\n",
       "      <td>Low Risk</td>\n",
       "      <td>Medium Exp</td>\n",
       "      <td>Low</td>\n",
       "    </tr>\n",
       "    <tr>\n",
       "      <th>6</th>\n",
       "      <td>1069639</td>\n",
       "      <td>1304742</td>\n",
       "      <td>7000</td>\n",
       "      <td>7000</td>\n",
       "      <td>7000.0</td>\n",
       "      <td>60 months</td>\n",
       "      <td>15.96</td>\n",
       "      <td>170.08</td>\n",
       "      <td>C</td>\n",
       "      <td>C5</td>\n",
       "      <td>...</td>\n",
       "      <td>23.51</td>\n",
       "      <td>0.0</td>\n",
       "      <td>8</td>\n",
       "      <td>5.0</td>\n",
       "      <td>medium</td>\n",
       "      <td>high</td>\n",
       "      <td>0</td>\n",
       "      <td>Medium Risk</td>\n",
       "      <td>Medium Exp</td>\n",
       "      <td>Low</td>\n",
       "    </tr>\n",
       "  </tbody>\n",
       "</table>\n",
       "<p>5 rows × 29 columns</p>\n",
       "</div>"
      ],
      "text/plain": [
       "        id  member_id  loan_amnt  funded_amnt  funded_amnt_inv        term  \\\n",
       "1  1077430    1314167       2500         2500           2500.0   60 months   \n",
       "3  1076863    1277178      10000        10000          10000.0   36 months   \n",
       "4  1075358    1311748       3000         3000           3000.0   60 months   \n",
       "5  1075269    1311441       5000         5000           5000.0   36 months   \n",
       "6  1069639    1304742       7000         7000           7000.0   60 months   \n",
       "\n",
       "   int_rate  installment grade sub_grade  ...    dti pub_rec_bankruptcies  \\\n",
       "1     15.27        59.83     C        C4  ...   1.00                  0.0   \n",
       "3     13.49       339.31     C        C1  ...  20.00                  0.0   \n",
       "4     12.69        67.79     B        B5  ...  17.94                  0.0   \n",
       "5      7.90       156.46     A        A4  ...  11.20                  0.0   \n",
       "6     15.96       170.08     C        C5  ...  23.51                  0.0   \n",
       "\n",
       "  no_of_years_service  loan_term loan_amount_type int_rate_type is_defaulter  \\\n",
       "1                   0        5.0            small          high            1   \n",
       "3                  10        3.0             high        medium            0   \n",
       "4                   1        5.0            small        medium            0   \n",
       "5                   3        3.0            small         small            0   \n",
       "6                   8        5.0           medium          high            0   \n",
       "\n",
       "      dti_type    exp_type  income_type  \n",
       "1     Low Risk     Fresher          Low  \n",
       "3     Low Risk    High Exp          Low  \n",
       "4     Low Risk     Fresher       Medium  \n",
       "5     Low Risk  Medium Exp          Low  \n",
       "6  Medium Risk  Medium Exp          Low  \n",
       "\n",
       "[5 rows x 29 columns]"
      ]
     },
     "execution_count": 194,
     "metadata": {},
     "output_type": "execute_result"
    }
   ],
   "source": [
    "#lets check the table now. \n",
    "df.head()"
   ]
  },
  {
   "cell_type": "code",
   "execution_count": 93,
   "id": "e40298ae-1347-41b4-98dc-4dd8298e091b",
   "metadata": {},
   "outputs": [
    {
     "name": "stdout",
     "output_type": "stream",
     "text": [
      "<class 'pandas.core.frame.DataFrame'>\n",
      "Index: 37202 entries, 1 to 39716\n",
      "Data columns (total 25 columns):\n",
      " #   Column                Non-Null Count  Dtype  \n",
      "---  ------                --------------  -----  \n",
      " 0   id                    37202 non-null  int64  \n",
      " 1   member_id             37202 non-null  int64  \n",
      " 2   loan_amnt             37202 non-null  int64  \n",
      " 3   funded_amnt           37202 non-null  int64  \n",
      " 4   funded_amnt_inv       37202 non-null  float64\n",
      " 5   term                  37202 non-null  object \n",
      " 6   int_rate              37202 non-null  float64\n",
      " 7   installment           37202 non-null  float64\n",
      " 8   grade                 37202 non-null  object \n",
      " 9   sub_grade             37202 non-null  object \n",
      " 10  emp_title             37202 non-null  object \n",
      " 11  emp_length            37202 non-null  object \n",
      " 12  home_ownership        37202 non-null  object \n",
      " 13  annual_inc            37202 non-null  float64\n",
      " 14  verification_status   37202 non-null  object \n",
      " 15  issue_d               37202 non-null  object \n",
      " 16  loan_status           37202 non-null  object \n",
      " 17  purpose               37202 non-null  object \n",
      " 18  addr_state            37202 non-null  object \n",
      " 19  dti                   37202 non-null  float64\n",
      " 20  pub_rec_bankruptcies  36548 non-null  float64\n",
      " 21  no_of_years_service   37202 non-null  int64  \n",
      " 22  loan_term             37202 non-null  float64\n",
      " 23  loan_amount_type      37202 non-null  object \n",
      " 24  int_rate_type         37202 non-null  object \n",
      "dtypes: float64(7), int64(5), object(13)\n",
      "memory usage: 7.4+ MB\n"
     ]
    }
   ],
   "source": [
    "df.info()"
   ]
  },
  {
   "cell_type": "code",
   "execution_count": 94,
   "id": "6d800c7d-4f88-4d9d-b290-d2693cc48749",
   "metadata": {},
   "outputs": [
    {
     "data": {
      "text/plain": [
       "id                      0.00000\n",
       "member_id               0.00000\n",
       "loan_amnt               0.00000\n",
       "funded_amnt             0.00000\n",
       "funded_amnt_inv         0.00000\n",
       "term                    0.00000\n",
       "int_rate                0.00000\n",
       "installment             0.00000\n",
       "grade                   0.00000\n",
       "sub_grade               0.00000\n",
       "emp_title               0.00000\n",
       "emp_length              0.00000\n",
       "home_ownership          0.00000\n",
       "annual_inc              0.00000\n",
       "verification_status     0.00000\n",
       "issue_d                 0.00000\n",
       "loan_status             0.00000\n",
       "purpose                 0.00000\n",
       "addr_state              0.00000\n",
       "dti                     0.00000\n",
       "pub_rec_bankruptcies    1.75797\n",
       "no_of_years_service     0.00000\n",
       "loan_term               0.00000\n",
       "loan_amount_type        0.00000\n",
       "int_rate_type           0.00000\n",
       "dtype: float64"
      ]
     },
     "execution_count": 94,
     "metadata": {},
     "output_type": "execute_result"
    }
   ],
   "source": [
    "100*df.isnull().mean()"
   ]
  },
  {
   "cell_type": "code",
   "execution_count": 95,
   "id": "0c052508-bb8b-4ed3-86b3-82a9e2516e8c",
   "metadata": {},
   "outputs": [
    {
     "name": "stdout",
     "output_type": "stream",
     "text": [
      "<class 'pandas.core.frame.DataFrame'>\n",
      "Index: 36548 entries, 1 to 39680\n",
      "Data columns (total 25 columns):\n",
      " #   Column                Non-Null Count  Dtype  \n",
      "---  ------                --------------  -----  \n",
      " 0   id                    36548 non-null  int64  \n",
      " 1   member_id             36548 non-null  int64  \n",
      " 2   loan_amnt             36548 non-null  int64  \n",
      " 3   funded_amnt           36548 non-null  int64  \n",
      " 4   funded_amnt_inv       36548 non-null  float64\n",
      " 5   term                  36548 non-null  object \n",
      " 6   int_rate              36548 non-null  float64\n",
      " 7   installment           36548 non-null  float64\n",
      " 8   grade                 36548 non-null  object \n",
      " 9   sub_grade             36548 non-null  object \n",
      " 10  emp_title             36548 non-null  object \n",
      " 11  emp_length            36548 non-null  object \n",
      " 12  home_ownership        36548 non-null  object \n",
      " 13  annual_inc            36548 non-null  float64\n",
      " 14  verification_status   36548 non-null  object \n",
      " 15  issue_d               36548 non-null  object \n",
      " 16  loan_status           36548 non-null  object \n",
      " 17  purpose               36548 non-null  object \n",
      " 18  addr_state            36548 non-null  object \n",
      " 19  dti                   36548 non-null  float64\n",
      " 20  pub_rec_bankruptcies  36548 non-null  float64\n",
      " 21  no_of_years_service   36548 non-null  int64  \n",
      " 22  loan_term             36548 non-null  float64\n",
      " 23  loan_amount_type      36548 non-null  object \n",
      " 24  int_rate_type         36548 non-null  object \n",
      "dtypes: float64(7), int64(5), object(13)\n",
      "memory usage: 7.2+ MB\n"
     ]
    }
   ],
   "source": [
    "#pub_rec_bankruptcies column still has null values. We need to remove those as well\n",
    "df = df[~df['pub_rec_bankruptcies'].isna()] \n",
    "df.info()"
   ]
  },
  {
   "cell_type": "code",
   "execution_count": 96,
   "id": "d1ff1579-a0f3-4d4b-8cab-13bb8f3d2fc7",
   "metadata": {},
   "outputs": [
    {
     "data": {
      "text/plain": [
       "id                      0.0\n",
       "member_id               0.0\n",
       "loan_amnt               0.0\n",
       "funded_amnt             0.0\n",
       "funded_amnt_inv         0.0\n",
       "term                    0.0\n",
       "int_rate                0.0\n",
       "installment             0.0\n",
       "grade                   0.0\n",
       "sub_grade               0.0\n",
       "emp_title               0.0\n",
       "emp_length              0.0\n",
       "home_ownership          0.0\n",
       "annual_inc              0.0\n",
       "verification_status     0.0\n",
       "issue_d                 0.0\n",
       "loan_status             0.0\n",
       "purpose                 0.0\n",
       "addr_state              0.0\n",
       "dti                     0.0\n",
       "pub_rec_bankruptcies    0.0\n",
       "no_of_years_service     0.0\n",
       "loan_term               0.0\n",
       "loan_amount_type        0.0\n",
       "int_rate_type           0.0\n",
       "dtype: float64"
      ]
     },
     "execution_count": 96,
     "metadata": {},
     "output_type": "execute_result"
    }
   ],
   "source": [
    "100*df.isnull().mean()"
   ]
  },
  {
   "cell_type": "markdown",
   "id": "bc4c1cd6-762d-4a60-88df-c7eee6b24c26",
   "metadata": {},
   "source": [
    "### Data Analysis"
   ]
  },
  {
   "cell_type": "code",
   "execution_count": 100,
   "id": "44c05a14-f75d-4df7-80e1-b4447c07661e",
   "metadata": {},
   "outputs": [
    {
     "data": {
      "text/html": [
       "<div>\n",
       "<style scoped>\n",
       "    .dataframe tbody tr th:only-of-type {\n",
       "        vertical-align: middle;\n",
       "    }\n",
       "\n",
       "    .dataframe tbody tr th {\n",
       "        vertical-align: top;\n",
       "    }\n",
       "\n",
       "    .dataframe thead th {\n",
       "        text-align: right;\n",
       "    }\n",
       "</style>\n",
       "<table border=\"1\" class=\"dataframe\">\n",
       "  <thead>\n",
       "    <tr style=\"text-align: right;\">\n",
       "      <th></th>\n",
       "      <th>id</th>\n",
       "      <th>member_id</th>\n",
       "      <th>loan_amnt</th>\n",
       "      <th>funded_amnt</th>\n",
       "      <th>funded_amnt_inv</th>\n",
       "      <th>term</th>\n",
       "      <th>int_rate</th>\n",
       "      <th>installment</th>\n",
       "      <th>grade</th>\n",
       "      <th>sub_grade</th>\n",
       "      <th>...</th>\n",
       "      <th>issue_d</th>\n",
       "      <th>loan_status</th>\n",
       "      <th>purpose</th>\n",
       "      <th>addr_state</th>\n",
       "      <th>dti</th>\n",
       "      <th>pub_rec_bankruptcies</th>\n",
       "      <th>no_of_years_service</th>\n",
       "      <th>loan_term</th>\n",
       "      <th>loan_amount_type</th>\n",
       "      <th>int_rate_type</th>\n",
       "    </tr>\n",
       "  </thead>\n",
       "  <tbody>\n",
       "    <tr>\n",
       "      <th>1</th>\n",
       "      <td>1077430</td>\n",
       "      <td>1314167</td>\n",
       "      <td>2500</td>\n",
       "      <td>2500</td>\n",
       "      <td>2500.0</td>\n",
       "      <td>60 months</td>\n",
       "      <td>15.27</td>\n",
       "      <td>59.83</td>\n",
       "      <td>C</td>\n",
       "      <td>C4</td>\n",
       "      <td>...</td>\n",
       "      <td>Dec-11</td>\n",
       "      <td>Charged Off</td>\n",
       "      <td>car</td>\n",
       "      <td>GA</td>\n",
       "      <td>1.00</td>\n",
       "      <td>0.0</td>\n",
       "      <td>0</td>\n",
       "      <td>5.0</td>\n",
       "      <td>small</td>\n",
       "      <td>high</td>\n",
       "    </tr>\n",
       "    <tr>\n",
       "      <th>3</th>\n",
       "      <td>1076863</td>\n",
       "      <td>1277178</td>\n",
       "      <td>10000</td>\n",
       "      <td>10000</td>\n",
       "      <td>10000.0</td>\n",
       "      <td>36 months</td>\n",
       "      <td>13.49</td>\n",
       "      <td>339.31</td>\n",
       "      <td>C</td>\n",
       "      <td>C1</td>\n",
       "      <td>...</td>\n",
       "      <td>Dec-11</td>\n",
       "      <td>Fully Paid</td>\n",
       "      <td>other</td>\n",
       "      <td>CA</td>\n",
       "      <td>20.00</td>\n",
       "      <td>0.0</td>\n",
       "      <td>10</td>\n",
       "      <td>3.0</td>\n",
       "      <td>high</td>\n",
       "      <td>medium</td>\n",
       "    </tr>\n",
       "    <tr>\n",
       "      <th>4</th>\n",
       "      <td>1075358</td>\n",
       "      <td>1311748</td>\n",
       "      <td>3000</td>\n",
       "      <td>3000</td>\n",
       "      <td>3000.0</td>\n",
       "      <td>60 months</td>\n",
       "      <td>12.69</td>\n",
       "      <td>67.79</td>\n",
       "      <td>B</td>\n",
       "      <td>B5</td>\n",
       "      <td>...</td>\n",
       "      <td>Dec-11</td>\n",
       "      <td>Current</td>\n",
       "      <td>other</td>\n",
       "      <td>OR</td>\n",
       "      <td>17.94</td>\n",
       "      <td>0.0</td>\n",
       "      <td>1</td>\n",
       "      <td>5.0</td>\n",
       "      <td>small</td>\n",
       "      <td>medium</td>\n",
       "    </tr>\n",
       "    <tr>\n",
       "      <th>5</th>\n",
       "      <td>1075269</td>\n",
       "      <td>1311441</td>\n",
       "      <td>5000</td>\n",
       "      <td>5000</td>\n",
       "      <td>5000.0</td>\n",
       "      <td>36 months</td>\n",
       "      <td>7.90</td>\n",
       "      <td>156.46</td>\n",
       "      <td>A</td>\n",
       "      <td>A4</td>\n",
       "      <td>...</td>\n",
       "      <td>Dec-11</td>\n",
       "      <td>Fully Paid</td>\n",
       "      <td>wedding</td>\n",
       "      <td>AZ</td>\n",
       "      <td>11.20</td>\n",
       "      <td>0.0</td>\n",
       "      <td>3</td>\n",
       "      <td>3.0</td>\n",
       "      <td>small</td>\n",
       "      <td>small</td>\n",
       "    </tr>\n",
       "    <tr>\n",
       "      <th>6</th>\n",
       "      <td>1069639</td>\n",
       "      <td>1304742</td>\n",
       "      <td>7000</td>\n",
       "      <td>7000</td>\n",
       "      <td>7000.0</td>\n",
       "      <td>60 months</td>\n",
       "      <td>15.96</td>\n",
       "      <td>170.08</td>\n",
       "      <td>C</td>\n",
       "      <td>C5</td>\n",
       "      <td>...</td>\n",
       "      <td>Dec-11</td>\n",
       "      <td>Fully Paid</td>\n",
       "      <td>debt_consolidation</td>\n",
       "      <td>NC</td>\n",
       "      <td>23.51</td>\n",
       "      <td>0.0</td>\n",
       "      <td>8</td>\n",
       "      <td>5.0</td>\n",
       "      <td>medium</td>\n",
       "      <td>high</td>\n",
       "    </tr>\n",
       "  </tbody>\n",
       "</table>\n",
       "<p>5 rows × 25 columns</p>\n",
       "</div>"
      ],
      "text/plain": [
       "        id  member_id  loan_amnt  funded_amnt  funded_amnt_inv        term  \\\n",
       "1  1077430    1314167       2500         2500           2500.0   60 months   \n",
       "3  1076863    1277178      10000        10000          10000.0   36 months   \n",
       "4  1075358    1311748       3000         3000           3000.0   60 months   \n",
       "5  1075269    1311441       5000         5000           5000.0   36 months   \n",
       "6  1069639    1304742       7000         7000           7000.0   60 months   \n",
       "\n",
       "   int_rate  installment grade sub_grade  ... issue_d  loan_status  \\\n",
       "1     15.27        59.83     C        C4  ...  Dec-11  Charged Off   \n",
       "3     13.49       339.31     C        C1  ...  Dec-11   Fully Paid   \n",
       "4     12.69        67.79     B        B5  ...  Dec-11      Current   \n",
       "5      7.90       156.46     A        A4  ...  Dec-11   Fully Paid   \n",
       "6     15.96       170.08     C        C5  ...  Dec-11   Fully Paid   \n",
       "\n",
       "              purpose  addr_state    dti pub_rec_bankruptcies  \\\n",
       "1                 car          GA   1.00                  0.0   \n",
       "3               other          CA  20.00                  0.0   \n",
       "4               other          OR  17.94                  0.0   \n",
       "5             wedding          AZ  11.20                  0.0   \n",
       "6  debt_consolidation          NC  23.51                  0.0   \n",
       "\n",
       "  no_of_years_service loan_term loan_amount_type  int_rate_type  \n",
       "1                   0       5.0            small           high  \n",
       "3                  10       3.0             high         medium  \n",
       "4                   1       5.0            small         medium  \n",
       "5                   3       3.0            small          small  \n",
       "6                   8       5.0           medium           high  \n",
       "\n",
       "[5 rows x 25 columns]"
      ]
     },
     "execution_count": 100,
     "metadata": {},
     "output_type": "execute_result"
    }
   ],
   "source": [
    "#lets check the data to be used for analysis\n",
    "df.head()"
   ]
  },
  {
   "cell_type": "code",
   "execution_count": 216,
   "id": "ec8a26fa-1722-412b-946b-691bd889269b",
   "metadata": {},
   "outputs": [
    {
     "data": {
      "image/png": "[encoded data removed]",
      "text/plain": [
       "<Figure size 200x200 with 1 Axes>"
      ]
     },
     "metadata": {},
     "output_type": "display_data"
    }
   ],
   "source": [
    "##Lets check the loan status\n",
    "# Set size for the graph\n",
    "plt.figure(figsize=(2,2))\n",
    "#define labels\n",
    "data_labels = ['Fully Paid','Charged Off','Current']\n",
    "#define data for the graph\n",
    "data = df['loan_status'].value_counts()\n",
    "#plot the graph\n",
    "plt.pie(data, labels=data_labels)\n",
    "#set graph title\n",
    "plt.title(\"Loan status pie chart\")\n",
    "#show graph\n",
    "plt.show()"
   ]
  },
  {
   "cell_type": "code",
   "execution_count": 217,
   "id": "9ee91c51-a3ce-407a-aed1-6e926bfbdcaa",
   "metadata": {},
   "outputs": [
    {
     "data": {
      "image/png": "[encoded data removed]",
      "text/plain": [
       "<Figure size 400x400 with 1 Axes>"
      ]
     },
     "metadata": {},
     "output_type": "display_data"
    }
   ],
   "source": [
    "#plot using a bar chart\n",
    "plt.figure(figsize=(4,4))\n",
    "#plt.bar(5, 5, breadth = 0.8)\n",
    "df['loan_status'].value_counts().plot.bar(15,15, width=.5)\n",
    "plt.xlabel(\"Loan Status\")\n",
    "plt.ylabel(\"Count\")\n",
    "plt.show()"
   ]
  },
  {
   "cell_type": "markdown",
   "id": "71dba3b6-067a-4fc9-bf45-99f8d01fa4ed",
   "metadata": {},
   "source": [
    "##### Now we can start marking defaulters based on the data. We can create a new column to store the same\n",
    "##### We know that if charged off, we can mark them as defaulters"
   ]
  },
  {
   "cell_type": "code",
   "execution_count": 117,
   "id": "4910ba77-ae45-4167-ad27-5cc38ba1f542",
   "metadata": {},
   "outputs": [],
   "source": [
    "df['is_defaulter'] = df['loan_status'].apply(lambda x: int(1 if x=='Charged Off' else 0))"
   ]
  },
  {
   "cell_type": "code",
   "execution_count": 118,
   "id": "f877e45d-f9d1-4ef0-8e2e-f6fabaef7dc7",
   "metadata": {},
   "outputs": [
    {
     "data": {
      "text/html": [
       "<div>\n",
       "<style scoped>\n",
       "    .dataframe tbody tr th:only-of-type {\n",
       "        vertical-align: middle;\n",
       "    }\n",
       "\n",
       "    .dataframe tbody tr th {\n",
       "        vertical-align: top;\n",
       "    }\n",
       "\n",
       "    .dataframe thead th {\n",
       "        text-align: right;\n",
       "    }\n",
       "</style>\n",
       "<table border=\"1\" class=\"dataframe\">\n",
       "  <thead>\n",
       "    <tr style=\"text-align: right;\">\n",
       "      <th></th>\n",
       "      <th>id</th>\n",
       "      <th>member_id</th>\n",
       "      <th>loan_amnt</th>\n",
       "      <th>funded_amnt</th>\n",
       "      <th>funded_amnt_inv</th>\n",
       "      <th>term</th>\n",
       "      <th>int_rate</th>\n",
       "      <th>installment</th>\n",
       "      <th>grade</th>\n",
       "      <th>sub_grade</th>\n",
       "      <th>...</th>\n",
       "      <th>loan_status</th>\n",
       "      <th>purpose</th>\n",
       "      <th>addr_state</th>\n",
       "      <th>dti</th>\n",
       "      <th>pub_rec_bankruptcies</th>\n",
       "      <th>no_of_years_service</th>\n",
       "      <th>loan_term</th>\n",
       "      <th>loan_amount_type</th>\n",
       "      <th>int_rate_type</th>\n",
       "      <th>is_defaulter</th>\n",
       "    </tr>\n",
       "  </thead>\n",
       "  <tbody>\n",
       "    <tr>\n",
       "      <th>1</th>\n",
       "      <td>1077430</td>\n",
       "      <td>1314167</td>\n",
       "      <td>2500</td>\n",
       "      <td>2500</td>\n",
       "      <td>2500.0</td>\n",
       "      <td>60 months</td>\n",
       "      <td>15.27</td>\n",
       "      <td>59.83</td>\n",
       "      <td>C</td>\n",
       "      <td>C4</td>\n",
       "      <td>...</td>\n",
       "      <td>Charged Off</td>\n",
       "      <td>car</td>\n",
       "      <td>GA</td>\n",
       "      <td>1.00</td>\n",
       "      <td>0.0</td>\n",
       "      <td>0</td>\n",
       "      <td>5.0</td>\n",
       "      <td>small</td>\n",
       "      <td>high</td>\n",
       "      <td>1</td>\n",
       "    </tr>\n",
       "    <tr>\n",
       "      <th>3</th>\n",
       "      <td>1076863</td>\n",
       "      <td>1277178</td>\n",
       "      <td>10000</td>\n",
       "      <td>10000</td>\n",
       "      <td>10000.0</td>\n",
       "      <td>36 months</td>\n",
       "      <td>13.49</td>\n",
       "      <td>339.31</td>\n",
       "      <td>C</td>\n",
       "      <td>C1</td>\n",
       "      <td>...</td>\n",
       "      <td>Fully Paid</td>\n",
       "      <td>other</td>\n",
       "      <td>CA</td>\n",
       "      <td>20.00</td>\n",
       "      <td>0.0</td>\n",
       "      <td>10</td>\n",
       "      <td>3.0</td>\n",
       "      <td>high</td>\n",
       "      <td>medium</td>\n",
       "      <td>0</td>\n",
       "    </tr>\n",
       "    <tr>\n",
       "      <th>4</th>\n",
       "      <td>1075358</td>\n",
       "      <td>1311748</td>\n",
       "      <td>3000</td>\n",
       "      <td>3000</td>\n",
       "      <td>3000.0</td>\n",
       "      <td>60 months</td>\n",
       "      <td>12.69</td>\n",
       "      <td>67.79</td>\n",
       "      <td>B</td>\n",
       "      <td>B5</td>\n",
       "      <td>...</td>\n",
       "      <td>Current</td>\n",
       "      <td>other</td>\n",
       "      <td>OR</td>\n",
       "      <td>17.94</td>\n",
       "      <td>0.0</td>\n",
       "      <td>1</td>\n",
       "      <td>5.0</td>\n",
       "      <td>small</td>\n",
       "      <td>medium</td>\n",
       "      <td>0</td>\n",
       "    </tr>\n",
       "    <tr>\n",
       "      <th>5</th>\n",
       "      <td>1075269</td>\n",
       "      <td>1311441</td>\n",
       "      <td>5000</td>\n",
       "      <td>5000</td>\n",
       "      <td>5000.0</td>\n",
       "      <td>36 months</td>\n",
       "      <td>7.90</td>\n",
       "      <td>156.46</td>\n",
       "      <td>A</td>\n",
       "      <td>A4</td>\n",
       "      <td>...</td>\n",
       "      <td>Fully Paid</td>\n",
       "      <td>wedding</td>\n",
       "      <td>AZ</td>\n",
       "      <td>11.20</td>\n",
       "      <td>0.0</td>\n",
       "      <td>3</td>\n",
       "      <td>3.0</td>\n",
       "      <td>small</td>\n",
       "      <td>small</td>\n",
       "      <td>0</td>\n",
       "    </tr>\n",
       "    <tr>\n",
       "      <th>6</th>\n",
       "      <td>1069639</td>\n",
       "      <td>1304742</td>\n",
       "      <td>7000</td>\n",
       "      <td>7000</td>\n",
       "      <td>7000.0</td>\n",
       "      <td>60 months</td>\n",
       "      <td>15.96</td>\n",
       "      <td>170.08</td>\n",
       "      <td>C</td>\n",
       "      <td>C5</td>\n",
       "      <td>...</td>\n",
       "      <td>Fully Paid</td>\n",
       "      <td>debt_consolidation</td>\n",
       "      <td>NC</td>\n",
       "      <td>23.51</td>\n",
       "      <td>0.0</td>\n",
       "      <td>8</td>\n",
       "      <td>5.0</td>\n",
       "      <td>medium</td>\n",
       "      <td>high</td>\n",
       "      <td>0</td>\n",
       "    </tr>\n",
       "  </tbody>\n",
       "</table>\n",
       "<p>5 rows × 26 columns</p>\n",
       "</div>"
      ],
      "text/plain": [
       "        id  member_id  loan_amnt  funded_amnt  funded_amnt_inv        term  \\\n",
       "1  1077430    1314167       2500         2500           2500.0   60 months   \n",
       "3  1076863    1277178      10000        10000          10000.0   36 months   \n",
       "4  1075358    1311748       3000         3000           3000.0   60 months   \n",
       "5  1075269    1311441       5000         5000           5000.0   36 months   \n",
       "6  1069639    1304742       7000         7000           7000.0   60 months   \n",
       "\n",
       "   int_rate  installment grade sub_grade  ...  loan_status  \\\n",
       "1     15.27        59.83     C        C4  ...  Charged Off   \n",
       "3     13.49       339.31     C        C1  ...   Fully Paid   \n",
       "4     12.69        67.79     B        B5  ...      Current   \n",
       "5      7.90       156.46     A        A4  ...   Fully Paid   \n",
       "6     15.96       170.08     C        C5  ...   Fully Paid   \n",
       "\n",
       "              purpose addr_state    dti pub_rec_bankruptcies  \\\n",
       "1                 car         GA   1.00                  0.0   \n",
       "3               other         CA  20.00                  0.0   \n",
       "4               other         OR  17.94                  0.0   \n",
       "5             wedding         AZ  11.20                  0.0   \n",
       "6  debt_consolidation         NC  23.51                  0.0   \n",
       "\n",
       "  no_of_years_service loan_term loan_amount_type int_rate_type  is_defaulter  \n",
       "1                   0       5.0            small          high             1  \n",
       "3                  10       3.0             high        medium             0  \n",
       "4                   1       5.0            small        medium             0  \n",
       "5                   3       3.0            small         small             0  \n",
       "6                   8       5.0           medium          high             0  \n",
       "\n",
       "[5 rows x 26 columns]"
      ]
     },
     "execution_count": 118,
     "metadata": {},
     "output_type": "execute_result"
    }
   ],
   "source": [
    "df.head()"
   ]
  },
  {
   "cell_type": "code",
   "execution_count": 119,
   "id": "b7af7321-0287-4f3f-97a4-c18b4b3c8631",
   "metadata": {},
   "outputs": [],
   "source": [
    "# Lets find out avarage defaulter  based on loan_status\n",
    "df['loan_status'] = df['loan_status'].astype('category')\n",
    "category_counts = df['loan_status'].value_counts()"
   ]
  },
  {
   "cell_type": "code",
   "execution_count": 120,
   "id": "d78fa6eb-58c2-472e-a39d-e08ac5ed89a1",
   "metadata": {},
   "outputs": [
    {
     "data": {
      "text/plain": [
       "loan_status\n",
       "Fully Paid     0.833507\n",
       "Charged Off    0.137326\n",
       "Current        0.029167\n",
       "Name: count, dtype: float64"
      ]
     },
     "execution_count": 120,
     "metadata": {},
     "output_type": "execute_result"
    }
   ],
   "source": [
    "total_records = len(df)\n",
    "average_occurrence = category_counts/total_records\n",
    "average_occurrence"
   ]
  },
  {
   "cell_type": "markdown",
   "id": "12efed8a-aabd-4806-adeb-9e35e7381958",
   "metadata": {},
   "source": [
    "#### Based on the available data, we will analyze the patterns to get insight into the customers with risks credit loss and help the lending farm take decisions whether to sanction loan to the customer or not. We will do the analysis in 3 stages\n",
    "- 1. Finding the customers in the defaulted category (Level -1 Analysis below)\n",
    "- 2. Univariate analysis - Further dive deep and analyze across loan status (Level 2-11 Below)\n",
    "- 3. Bi-variate analysis - Further analysis based defaulters two other attributes."
   ]
  },
  {
   "cell_type": "markdown",
   "id": "377dcab0-b502-4b66-9c28-0c5c9d66f546",
   "metadata": {},
   "source": [
    "### Level-1 Analysis\n",
    "##### The above data analysis shows that close to ~13.7% of the customers are in risky category i.e. charged off\n",
    "##### Since this does not provide a details level of insight, we need to use this information and compare with the other attributes to derive more insights to the riskiest categories/customers"
   ]
  },
  {
   "cell_type": "markdown",
   "id": "866716c3-6bad-4407-bb91-a248e21cfff7",
   "metadata": {},
   "source": [
    "### Level-2 Analysis\n",
    "##### In this level, we will analyze the defaulted customers according to their grade. The loan grade is given based on the credit score. The customers with grade 'A' are considered the best customers with no/lowest risk and from 'B','C','D','E','F','G' the reliability reduces with increased risk in same sequence."
   ]
  },
  {
   "cell_type": "code",
   "execution_count": 137,
   "id": "cfde112d-f5cb-4d8b-8571-6999e51afffa",
   "metadata": {},
   "outputs": [
    {
     "data": {
      "image/png": "[encoded data removed]",
      "text/plain": [
       "<Figure size 600x400 with 1 Axes>"
      ]
     },
     "metadata": {},
     "output_type": "display_data"
    }
   ],
   "source": [
    "plt.figure(figsize=(6,4))\n",
    "sns.barplot(x='grade', y='is_defaulter', data=df, order=['A','B','C','D','E','F','G'])\n",
    "plt.show()"
   ]
  },
  {
   "cell_type": "markdown",
   "id": "423ad042-fa0f-4898-8047-d9a040323364",
   "metadata": {},
   "source": [
    "#### Observation\n",
    "##### As expected, the customers with higher risk grade, are the major defaulters"
   ]
  },
  {
   "cell_type": "markdown",
   "id": "39a39e62-4160-477d-b002-a2455d4a43a1",
   "metadata": {},
   "source": [
    "### Level-3 Analysis\n",
    "##### In this level we will go little deeper and analyze the defauters at the sub-grade level. This is a further level of categorization within the grade based on their credit history. Each grade is sub-divided into 5 sub-grades. For ex. Grade 'A' is divided into A1,A2,A3,A4,A5."
   ]
  },
  {
   "cell_type": "code",
   "execution_count": 140,
   "id": "7975262a-3316-4f93-bdfb-0de750c422ed",
   "metadata": {},
   "outputs": [
    {
     "data": {
      "image/png": "[encoded data removed]",
      "text/plain": [
       "<Figure size 1000x400 with 1 Axes>"
      ]
     },
     "metadata": {},
     "output_type": "display_data"
    }
   ],
   "source": [
    "plt.figure(figsize=(10,4))\n",
    "sns.barplot(x='sub_grade', y='is_defaulter', data=df, order=['A1','A2','A3','A4','A5',\n",
    "                                                            'B1','B2','B3','B4','B5',\n",
    "                                                            'C1','C2','C3','C4','C5',\n",
    "                                                            'D1','D2','D3','D4','D5',\n",
    "                                                            'E1','E2','E3','E4','E5',\n",
    "                                                            'F1','F2','F3','F4','F5',\n",
    "                                                            'G1','G2','G3','G4','G5'])\n",
    "plt.show()"
   ]
  },
  {
   "cell_type": "markdown",
   "id": "f1e801ab-61ee-467c-af89-8f4c022d419b",
   "metadata": {},
   "source": [
    "#### Observation\n",
    "##### The above analysis shows that customers with higher risk sub-grade are major defaulters even within a grade except few exceptions. The major defaulters are in sub-grade F5 and G3"
   ]
  },
  {
   "cell_type": "markdown",
   "id": "5e39f51e-750d-489b-9eb1-dad46082d5cd",
   "metadata": {},
   "source": [
    "### Level-4 Analysis\n",
    "##### Lets compare with the loan term to see how it impacts defaulting"
   ]
  },
  {
   "cell_type": "code",
   "execution_count": 145,
   "id": "381f63f3-02b2-4d7f-87f0-e9aad46ee5a0",
   "metadata": {},
   "outputs": [
    {
     "data": {
      "image/png": "[encoded data removed]",
      "text/plain": [
       "<Figure size 400x400 with 1 Axes>"
      ]
     },
     "metadata": {},
     "output_type": "display_data"
    }
   ],
   "source": [
    "plt.figure(figsize=(4,4))\n",
    "sns.barplot(x='loan_term', y='is_defaulter', data=df, order=['3.0','5.0'])\n",
    "plt.show()"
   ]
  },
  {
   "cell_type": "markdown",
   "id": "cb974a19-6afa-4c90-bbdd-ac71882a2d97",
   "metadata": {},
   "source": [
    "#### Observation\n",
    "##### In this analysis it is clear that customers with higher loan term are in bigger default category"
   ]
  },
  {
   "cell_type": "markdown",
   "id": "7fe15c6f-82e5-447c-8b35-ab3bca9e3f70",
   "metadata": {},
   "source": [
    "### Level - 5 Analysis\n",
    "##### In this level lets analyze the defaulters with respect to no_of_years_service"
   ]
  },
  {
   "cell_type": "code",
   "execution_count": 149,
   "id": "446456f1-a719-472c-a231-8195fb223079",
   "metadata": {},
   "outputs": [
    {
     "data": {
      "image/png": "[encoded data removed]",
      "text/plain": [
       "<Figure size 700x400 with 1 Axes>"
      ]
     },
     "metadata": {},
     "output_type": "display_data"
    }
   ],
   "source": [
    "plt.figure(figsize=(7,4))\n",
    "sns.barplot(x='no_of_years_service', y='is_defaulter', data=df)\n",
    "plt.show()"
   ]
  },
  {
   "cell_type": "markdown",
   "id": "80a7d8f2-5ac0-488e-b95f-4ae3fc725a53",
   "metadata": {},
   "source": [
    "#### Observation\n",
    "##### We dont see any pattern in this category. Hence we can conclude that the number of years of service has not much impact on the defaulting"
   ]
  },
  {
   "cell_type": "markdown",
   "id": "6167204e-e0f5-4149-9f79-3f4cb2fc1dd2",
   "metadata": {},
   "source": [
    "### Level - 6 Analysis\n",
    "##### In this level lets see if loan purpose has any impact on the defaulteing"
   ]
  },
  {
   "cell_type": "code",
   "execution_count": 156,
   "id": "ab6f4116-84e1-4418-b785-5ce8db9c3c3c",
   "metadata": {},
   "outputs": [
    {
     "data": {
      "image/png": "[encoded data removed]",
      "text/plain": [
       "<Figure size 2000x400 with 1 Axes>"
      ]
     },
     "metadata": {},
     "output_type": "display_data"
    }
   ],
   "source": [
    "plt.figure(figsize=(20,4))\n",
    "sns.barplot(x='purpose', y='is_defaulter', data=df, width=.6)\n",
    "plt.show()"
   ]
  },
  {
   "cell_type": "markdown",
   "id": "875228af-e78d-42b8-8243-d4baf1205715",
   "metadata": {},
   "source": [
    "#### Observation\n",
    "##### The above analysis shows that the customers taking loan for small businesses are major defaulters compared to any other category"
   ]
  },
  {
   "cell_type": "markdown",
   "id": "1b405a4c-738c-4f41-be5b-dcd3d7ef3db9",
   "metadata": {},
   "source": [
    "### Level - 7 analysis\n",
    "##### In this level we will see if the loan_amount_type has any impact on the defaulting"
   ]
  },
  {
   "cell_type": "code",
   "execution_count": 210,
   "id": "c3f910d7-b2f1-4128-9887-fe1cca64e05c",
   "metadata": {},
   "outputs": [
    {
     "data": {
      "image/png": "[encoded data removed]",
      "text/plain": [
       "<Figure size 700x400 with 1 Axes>"
      ]
     },
     "metadata": {},
     "output_type": "display_data"
    }
   ],
   "source": [
    "plt.figure(figsize=(7,4))\n",
    "sns.barplot(x='loan_amount_type', y='is_defaulter', data=df, width=.5)\n",
    "plt.show()"
   ]
  },
  {
   "cell_type": "markdown",
   "id": "e01051e2-22e9-4bde-b5e7-350acb866efb",
   "metadata": {},
   "source": [
    "#### Obesrvation\n",
    "##### The above analysis shows that the customers with 'very high' loan amount i.e >=15000 are major defaulters compared those with lower loan amount"
   ]
  },
  {
   "cell_type": "markdown",
   "id": "aee87148-f108-46e6-bdfe-1681b0d2efaa",
   "metadata": {},
   "source": [
    "### Level -8 Analysis\n",
    "##### Here we will analyze if int_rate_type has any impact on defaulting"
   ]
  },
  {
   "cell_type": "code",
   "execution_count": 163,
   "id": "c58c97a4-1ab0-4783-914b-d10673a8104e",
   "metadata": {},
   "outputs": [
    {
     "data": {
      "image/png": "[encoded data removed]",
      "text/plain": [
       "<Figure size 500x400 with 1 Axes>"
      ]
     },
     "metadata": {},
     "output_type": "display_data"
    }
   ],
   "source": [
    "plt.figure(figsize=(5,4))\n",
    "sns.barplot(x='int_rate_type', y='is_defaulter', data=df, width=.4)\n",
    "plt.show()"
   ]
  },
  {
   "cell_type": "markdown",
   "id": "7a9bfb19-5224-4261-ad4c-58cbd328c815",
   "metadata": {},
   "source": [
    "#### Observation\n",
    "##### The above analysis shows that the customer who were given loan at high interest are major defaulters i.e. interest rate > 14%"
   ]
  },
  {
   "cell_type": "markdown",
   "id": "b4155fce-1554-4329-91e8-587e86027446",
   "metadata": {},
   "source": [
    "### Level - 9 analysis\n",
    "##### another major attribute to check is the verification status. Without proper verification of the customer, income source etc. the risk of defaulting increase. We can analyze the same based on the data."
   ]
  },
  {
   "cell_type": "code",
   "execution_count": 164,
   "id": "65a66177-3807-4569-ae46-78f4c9c2bf62",
   "metadata": {},
   "outputs": [
    {
     "data": {
      "image/png": "[encoded data removed]",
      "text/plain": [
       "<Figure size 500x400 with 1 Axes>"
      ]
     },
     "metadata": {},
     "output_type": "display_data"
    }
   ],
   "source": [
    "plt.figure(figsize=(5,4))\n",
    "sns.barplot(x='verification_status', y='is_defaulter', data=df, width=.4)\n",
    "plt.show()"
   ]
  },
  {
   "cell_type": "markdown",
   "id": "148f5df5-8a68-43f2-9514-190ad0e22cc2",
   "metadata": {},
   "source": [
    "#### Observation\n",
    "##### In this case the verified customers seem to be the major defaulters which does not make any sense as verification always reduces risk. Hence this insight does not help in any conclusion."
   ]
  },
  {
   "cell_type": "markdown",
   "id": "5bb52406-ff7e-4ef3-827e-060b8b847b36",
   "metadata": {},
   "source": [
    "### Level - 10 Analysis\n",
    "##### In this level lets analyze the defaulters against their debt to self-reported monthly income"
   ]
  },
  {
   "cell_type": "code",
   "execution_count": 176,
   "id": "a3a19ac9-921e-4262-9a06-e948f65990be",
   "metadata": {},
   "outputs": [
    {
     "data": {
      "image/png": "[encoded data removed]",
      "text/plain": [
       "<Figure size 500x400 with 1 Axes>"
      ]
     },
     "metadata": {},
     "output_type": "display_data"
    }
   ],
   "source": [
    "plt.figure(figsize=(5,4))\n",
    "sns.barplot(x='dti_type', y='is_defaulter', data=df, order=['Low Risk','Medium Risk','Fair Risk','High Risk'])\n",
    "plt.show()"
   ]
  },
  {
   "cell_type": "markdown",
   "id": "9c727364-d57f-4cd1-a322-a4e1f198a3b2",
   "metadata": {},
   "source": [
    "#### Observation\n",
    "##### This also does not give any conclusion as the customers at higher risk of dti are not the defaulters whereas the customers in low and medium risk are the major defaulters."
   ]
  },
  {
   "cell_type": "markdown",
   "id": "7a362f36-5570-4ea5-9416-24d2485d4e83",
   "metadata": {},
   "source": [
    "\n",
    "### Level 11 - Analysis\n",
    "##### At this level, we will check if the number of years of experience shows any pattern for defaulting"
   ]
  },
  {
   "cell_type": "code",
   "execution_count": 184,
   "id": "a18485d1-ae52-4402-8544-6fbf2ade6295",
   "metadata": {},
   "outputs": [
    {
     "data": {
      "image/png": "[encoded data removed]",
      "text/plain": [
       "<Figure size 400x400 with 1 Axes>"
      ]
     },
     "metadata": {},
     "output_type": "display_data"
    }
   ],
   "source": [
    "#now let's look at experience  with defaulter \n",
    "plt.figure(figsize=(4,4))\n",
    "sns.barplot(x='exp_type', y='is_defaulter', data=df, order=['Fresher','Medium Exp','High Exp'])\n",
    "plt.show()"
   ]
  },
  {
   "cell_type": "markdown",
   "id": "a9a922b8-af6f-49be-a254-29c576638caf",
   "metadata": {},
   "source": [
    "#### Observation\n",
    "##### The above analysis shows that years of experience is not a determisistic factor for defaulting"
   ]
  },
  {
   "cell_type": "markdown",
   "id": "7865e4c3-167f-4de4-944a-efa66dfed652",
   "metadata": {},
   "source": [
    "### "
   ]
  },
  {
   "cell_type": "markdown",
   "id": "cc21139d-2c88-4c27-b03b-4db1983faf4e",
   "metadata": {},
   "source": [
    "### Leval 12 - Analysis\n",
    "##### Income type also another attribute which can impact paying back the loan. At this level we will get insight into it"
   ]
  },
  {
   "cell_type": "code",
   "execution_count": 199,
   "id": "f835cf3a-de68-4fdd-a898-901f98636ec9",
   "metadata": {},
   "outputs": [
    {
     "data": {
      "image/png": "[encoded data removed]",
      "text/plain": [
       "<Figure size 700x400 with 1 Axes>"
      ]
     },
     "metadata": {},
     "output_type": "display_data"
    }
   ],
   "source": [
    "#Lets look at the graph for people with different income bracket\n",
    "plt.figure(figsize=(7,4))\n",
    "sns.barplot(x='income_type', y='is_defaulter', data=df, order= ['Low', 'Medium','High'], width=0.4)\n",
    "plt.show()"
   ]
  },
  {
   "cell_type": "markdown",
   "id": "556cfc33-2053-4667-a6cd-5e25184a3b02",
   "metadata": {},
   "source": [
    "#### Observation\n",
    "##### The above graph shows that the customer with lower i.e. <50000 income are major defaulters"
   ]
  },
  {
   "cell_type": "markdown",
   "id": "0482bf37-e856-4050-b1b2-66f48845dc54",
   "metadata": {},
   "source": [
    "### Now we can do bi-variate analysis by using other attributes along with defaulters"
   ]
  },
  {
   "cell_type": "markdown",
   "id": "874374ee-5f7d-41a0-b352-d703247d5fdf",
   "metadata": {},
   "source": [
    "### Level 13 - Analysis\n",
    "#### Lets compare with the below attributes\n",
    "- loan_amount_type\n",
    "- is_defaulter\n",
    "- grade"
   ]
  },
  {
   "cell_type": "code",
   "execution_count": 201,
   "id": "db54a263-4d1f-44b4-abb4-cb7434f151c1",
   "metadata": {},
   "outputs": [
    {
     "data": {
      "image/png": "[encoded data removed]",
      "text/plain": [
       "<Figure size 1000x400 with 1 Axes>"
      ]
     },
     "metadata": {},
     "output_type": "display_data"
    }
   ],
   "source": [
    "# Lets compare a few more variable \n",
    "plt.figure(figsize=[10, 4])\n",
    "sns.barplot(x='loan_amount_type', y=\"is_defaulter\", hue='grade', data=df)\n",
    "plt.show()"
   ]
  },
  {
   "cell_type": "markdown",
   "id": "bbf8e54b-1639-49dc-9b22-feabd175938d",
   "metadata": {},
   "source": [
    "#### Observation\n",
    "##### Above analysis shows that the customers with lower grade especially G are into higher defaulter bracket for any loan amount type"
   ]
  },
  {
   "cell_type": "markdown",
   "id": "7164597d-4c50-450a-9161-9d8359aa2a3b",
   "metadata": {},
   "source": [
    "### Level 15 - Analysis\n",
    "#### Lets compare with the below attributes\n",
    "- loan_amount_type\n",
    "- is_defaulter\n",
    "- Term"
   ]
  },
  {
   "cell_type": "code",
   "execution_count": 204,
   "id": "084d1771-3312-40a8-86d0-b92674d8f843",
   "metadata": {},
   "outputs": [
    {
     "data": {
      "image/png": "[encoded data removed]",
      "text/plain": [
       "<Figure size 1000x400 with 1 Axes>"
      ]
     },
     "metadata": {},
     "output_type": "display_data"
    }
   ],
   "source": [
    "# Lets compare with the loan amount type and term\n",
    "plt.figure(figsize=[10, 4])\n",
    "sns.barplot(x='loan_amount_type', y=\"is_defaulter\", hue='term', data=df)\n",
    "plt.show()"
   ]
  },
  {
   "cell_type": "markdown",
   "id": "725aedb2-1a38-48df-b1e5-0b50f4b2a669",
   "metadata": {},
   "source": [
    "#### Observation\n",
    "##### The above graph shows that the loans with higher term has more defaulters for any loan amount type"
   ]
  },
  {
   "cell_type": "markdown",
   "id": "21789d6a-5610-4ced-beaa-5221e398c5e5",
   "metadata": {},
   "source": [
    "### Level 16 - Analysis\n",
    "#### Lets compare with the below attributes\n",
    "- loan_amount_type\n",
    "- is_defaulter\n",
    "- purpose"
   ]
  },
  {
   "cell_type": "code",
   "execution_count": 206,
   "id": "b6a08acb-ddb5-4a2e-8bbe-b05c7504fb95",
   "metadata": {},
   "outputs": [
    {
     "data": {
      "image/png": "[encoded data removed]",
      "text/plain": [
       "<Figure size 2000x400 with 1 Axes>"
      ]
     },
     "metadata": {},
     "output_type": "display_data"
    }
   ],
   "source": [
    "# Lets compare with the loan amount and purpose\n",
    "plt.figure(figsize=[20, 4])\n",
    "sns.barplot(x='loan_amount_type', y=\"is_defaulter\", hue='purpose', data=df)\n",
    "plt.show()"
   ]
  },
  {
   "cell_type": "markdown",
   "id": "5b2d8735-ee2d-46d0-a8cc-2c60cae6f33c",
   "metadata": {},
   "source": [
    "#### Observation\n",
    "##### Here again we can see the customers taken loan for small businesses are majorly into defaulters for any loan amount type"
   ]
  },
  {
   "cell_type": "markdown",
   "id": "deb7baaa-81a5-41ad-95e9-e29c37bb5119",
   "metadata": {},
   "source": [
    "### Level 17 - Analysis\n",
    "#### Lets compare with the below attributes\n",
    "- loan_amount_type\n",
    "- is_defaulter\n",
    "- int_rate_type"
   ]
  },
  {
   "cell_type": "code",
   "execution_count": 208,
   "id": "dd6b7e6e-c542-4d35-9297-b3aa80e91746",
   "metadata": {},
   "outputs": [
    {
     "data": {
      "image/png": "[encoded data removed]",
      "text/plain": [
       "<Figure size 1500x500 with 1 Axes>"
      ]
     },
     "metadata": {},
     "output_type": "display_data"
    }
   ],
   "source": [
    "# Lets compare with the loan amount type and interest rate type\n",
    "plt.figure(figsize=[15, 5])\n",
    "sns.barplot(x='loan_amount_type', y=\"is_defaulter\", hue='int_rate_type', data=df)\n",
    "plt.show()"
   ]
  },
  {
   "cell_type": "markdown",
   "id": "3223fe04-bd38-4c81-84cf-0ba46aafd1d3",
   "metadata": {},
   "source": [
    "#### Observation\n",
    "##### Above shows that the customers given loan with higher interest rate are major defaulters for any loan amount type"
   ]
  },
  {
   "cell_type": "code",
   "execution_count": null,
   "id": "269eb026-ece7-49e7-bf7e-18477bc7a6f6",
   "metadata": {},
   "outputs": [],
   "source": []
  }
 ],
 "metadata": {
  "kernelspec": {
   "display_name": "Python 3 (ipykernel)",
   "language": "python",
   "name": "python3"
  },
  "language_info": {
   "codemirror_mode": {
    "name": "ipython",
    "version": 3
   },
   "file_extension": ".py",
   "mimetype": "text/x-python",
   "name": "python",
   "nbconvert_exporter": "python",
   "pygments_lexer": "ipython3",
   "version": "3.12.7"
  }
 },
 "nbformat": 4,
 "nbformat_minor": 5
}
